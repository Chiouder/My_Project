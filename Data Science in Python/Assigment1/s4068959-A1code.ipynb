{
 "cells": [
  {
   "cell_type": "markdown",
   "metadata": {
    "id": "u-EEv9utoT69"
   },
   "source": [
    "# Task 1: Data Preparation\n"
   ]
  },
  {
   "cell_type": "code",
   "execution_count": 49,
   "metadata": {
    "id": "Qykq4YuQtZUS"
   },
   "outputs": [
    {
     "name": "stdout",
     "output_type": "stream",
     "text": [
      "  ISO3 Countries and areas Region Sub-region              Income Group Total  \\\n",
      "0  DZA             Algeria   MENA       MENA  Upper middle income (UM)   25%   \n",
      "1  AGO              Angola    SSA        ESA  Lower middle income (LM)   19%   \n",
      "2  ARG           Argentina    LAC        LAC  Upper middle income (UM)   43%   \n",
      "3  ARM             Armenia    ECA       EECA  Upper middle income (UM)   81%   \n",
      "4  BGD          Bangladesh     SA         SA  Lower middle income (LM)   34%   \n",
      "\n",
      "  Residence (Rural) Residence (Urban) Wealth quintile (Poorest)  \\\n",
      "0               10%               33%                        1%   \n",
      "1                2%               27%                        0%   \n",
      "2               NaN               NaN                       NaN   \n",
      "3               71%               89%                       44%   \n",
      "4               31%               48%                        8%   \n",
      "\n",
      "  Wealth quintile (Richest) Time period  \n",
      "0                       78%   2018-2019  \n",
      "1                       62%   2015-2016  \n",
      "2                       NaN   2011-2012  \n",
      "3                       99%   2015-2016  \n",
      "4                       73%        2019  \n"
     ]
    }
   ],
   "source": [
    "import pandas as pd\n",
    "\n",
    "# Load the CSV file into a DataFrame.\n",
    "df = pd.read_csv('A1data.csv') # Since there're no need for decimal or header(like tutor teach in the class), no need to add those arguments\n",
    "\n",
    "# Display the first few rows of the DataFrame to check it import correctly.\n",
    "print(df.head())\n"
   ]
  },
  {
   "cell_type": "markdown",
   "metadata": {},
   "source": [
    "### Check data in \"Income Group\" column"
   ]
  },
  {
   "cell_type": "code",
   "execution_count": 50,
   "metadata": {},
   "outputs": [
    {
     "name": "stdout",
     "output_type": "stream",
     "text": [
      "['Lower middle income (LLM)', 'Lower middle income (LMM)']\n",
      "The amount of Missing values\n",
      " 0\n"
     ]
    }
   ],
   "source": [
    "# Save correct data format in a variable\n",
    "expected_income_groups = [\n",
    "    'Low income (L)', \n",
    "    'Lower middle income (LM)', \n",
    "    'Upper middle income (UM)', \n",
    "    'High income (H)'\n",
    "]\n",
    "\n",
    "# Get all unique values in the 'Income Group' column and save them into a variable \n",
    "unique_income_groups = df['Income Group'].unique()\n",
    "unexpected_values = [] # later will store wrong value in this list\n",
    "\n",
    "# Iterate over unique_income_gros and compare each of the elements with the expected data format\n",
    "for value in unique_income_groups:\n",
    "    # If the value is not in the list of expected income groups, add it to unexpected_values\n",
    "    if value not in expected_income_groups:\n",
    "        unexpected_values.append(value)\n",
    "\n",
    "# Print out the result and double check the unexpected values\n",
    "print(unexpected_values)\n",
    "\n",
    "#check whether there have missing values\n",
    "missing_values = df['Income Group'].isnull().sum()\n",
    "print(\"The amount of Missing values\\n\", missing_values)\n"
   ]
  },
  {
   "cell_type": "code",
   "execution_count": 51,
   "metadata": {},
   "outputs": [
    {
     "name": "stdout",
     "output_type": "stream",
     "text": [
      "['Upper middle income (UM)' 'Lower middle income (LM)' 'High income (H)'\n",
      " 'Low income (L)']\n"
     ]
    }
   ],
   "source": [
    "# Define a dictionary mapping incorrect values to the correct ones\n",
    "corrections = {\n",
    "    'Lower middle income (LLM)': 'Lower middle income (LM)', # it means the 'Lower middle income (LLM)' should be changed to 'Lower middle income (LM)'\n",
    "    'Lower middle income (LMM)': 'Lower middle income (LM)'\n",
    "}\n",
    "\n",
    "# Replace the incorrect values in the 'Income Group' column\n",
    "df['Income Group'] = df['Income Group'].replace(corrections)\n",
    "\n",
    "# Double check the changes by checking the unique values again\n",
    "print(df['Income Group'].unique())"
   ]
  },
  {
   "cell_type": "code",
   "execution_count": 52,
   "metadata": {},
   "outputs": [],
   "source": [
    "# Strip leading and trailing whitespace from the 'Income Group' column \n",
    "df['Income Group'] = df['Income Group'].str.strip()\n"
   ]
  },
  {
   "cell_type": "markdown",
   "metadata": {},
   "source": [
    "### Check columns that in percentage type"
   ]
  },
  {
   "cell_type": "code",
   "execution_count": 53,
   "metadata": {},
   "outputs": [
    {
     "name": "stdout",
     "output_type": "stream",
     "text": [
      "Total                        float64\n",
      "Residence (Rural)            float64\n",
      "Residence (Urban)            float64\n",
      "Wealth quintile (Poorest)    float64\n",
      "Wealth quintile (Richest)    float64\n",
      "dtype: object\n",
      "\n",
      "Rows with out-of-range values:\n",
      "    ISO3 Countries and areas Region Sub-region              Income Group  \\\n",
      "59  RUS  Russian Federation    ECA       EECA  Upper middle income (UM)   \n",
      "\n",
      "    Total  Residence (Rural)  Residence (Urban)  Wealth quintile (Poorest)  \\\n",
      "59   0.86               0.79               0.94                       0.88   \n",
      "\n",
      "    Wealth quintile (Richest) Time period  \n",
      "59                        1.1        2018  \n",
      "\n",
      "Rows with out-of-range values:\n",
      " Empty DataFrame\n",
      "Columns: [ISO3, Countries and areas, Region, Sub-region, Income Group, Total, Residence (Rural), Residence (Urban), Wealth quintile (Poorest), Wealth quintile (Richest), Time period]\n",
      "Index: []\n"
     ]
    },
    {
     "name": "stderr",
     "output_type": "stream",
     "text": [
      "/var/folders/y4/x54xpg2j5h1b3cx_7243b5qc0000gn/T/ipykernel_51720/214131680.py:21: FutureWarning: DataFrame.applymap has been deprecated. Use DataFrame.map instead.\n",
      "  df[percentage_columns] = df[percentage_columns].applymap(clean_extra_spaces)\n",
      "/var/folders/y4/x54xpg2j5h1b3cx_7243b5qc0000gn/T/ipykernel_51720/214131680.py:31: FutureWarning: DataFrame.applymap has been deprecated. Use DataFrame.map instead.\n",
      "  df[percentage_columns] = df[percentage_columns].applymap(convert_to_numeric)\n"
     ]
    }
   ],
   "source": [
    "# List of columns to check for NaN or empty values\n",
    "percentage_columns = [\n",
    "    'Total', \n",
    "    'Residence (Rural)', \n",
    "    'Residence (Urban)', \n",
    "    'Wealth quintile (Poorest)', \n",
    "    'Wealth quintile (Richest)'\n",
    "]\n",
    "\n",
    "# Function to clean extra spaces in the fields\n",
    "def clean_extra_spaces(value):\n",
    "    \"\"\"\n",
    "    Identify and remove any leading, trailing, or internal spaces like '3 %', '57% ', or ' 60%'. \n",
    "    \"\"\"\n",
    "    if isinstance(value, str):\n",
    "        # Strip leading and trailing spaces, and remove internal spaces\n",
    "        value = value.strip().replace(' ', '')\n",
    "    return value\n",
    "\n",
    "# Apply the cleaning function to the specified percentage columns\n",
    "df[percentage_columns] = df[percentage_columns].applymap(clean_extra_spaces)\n",
    "\n",
    "# Function to remove the '%' sign and convert percentage strings to float for further processing \n",
    "def convert_to_numeric(value):\n",
    "    if isinstance(value, str):\n",
    "        # Remove the '%' sign and convert to float\n",
    "        return float(value.replace('%', ''))\n",
    "    return value\n",
    "\n",
    "# Apply the conversion function\n",
    "df[percentage_columns] = df[percentage_columns].applymap(convert_to_numeric)\n",
    "df[percentage_columns] = df[percentage_columns]/100 # covert the % to decimal, like 10% -> 0.1\n",
    "\n",
    "# Verify that the columns are now numeric\n",
    "print(df[percentage_columns].dtypes)\n",
    "\n",
    "# Check for out-of-range values in the percentage columns\n",
    "out_of_range = df[percentage_columns].apply(lambda x: (x < 0) | (x > 1))\n",
    "\n",
    "# Display rows with out-of-range values\n",
    "out_of_range_rows = df[out_of_range.any(axis=1)]\n",
    "print(\"\\nRows with out-of-range values:\\n\", out_of_range_rows)\n",
    "\n",
    "# Cap the percentage values to the range 0% to 100%\n",
    "# Any value below 0 will be set to 0, and any value above 100 will be set to 100\n",
    "df[percentage_columns] = df[percentage_columns].clip(0, 1)\n",
    "\n",
    "# Check again\n",
    "out_of_range = df[percentage_columns].apply(lambda x: (x < 0) | (x > 1))\n",
    "out_of_range_rows = df[out_of_range.any(axis=1)]\n",
    "print(\"\\nRows with out-of-range values:\\n\", out_of_range_rows)"
   ]
  },
  {
   "cell_type": "code",
   "execution_count": 54,
   "metadata": {},
   "outputs": [
    {
     "name": "stdout",
     "output_type": "stream",
     "text": [
      "Missing values in each percentage column:\n",
      " Total                        0\n",
      "Residence (Rural)            5\n",
      "Residence (Urban)            4\n",
      "Wealth quintile (Poorest)    7\n",
      "Wealth quintile (Richest)    7\n",
      "dtype: int64\n",
      "ISO3                         0\n",
      "Countries and areas          0\n",
      "Region                       0\n",
      "Sub-region                   0\n",
      "Income Group                 0\n",
      "Total                        0\n",
      "Residence (Rural)            0\n",
      "Residence (Urban)            0\n",
      "Wealth quintile (Poorest)    0\n",
      "Wealth quintile (Richest)    0\n",
      "Time period                  0\n",
      "dtype: int64\n"
     ]
    }
   ],
   "source": [
    "# Check and calculate for NaN values in the specified columns\n",
    "missing_values = df[percentage_columns].isnull().sum()\n",
    "print(\"Missing values in each percentage column:\\n\", missing_values)\n",
    "\n",
    "# Replace all NaN values in the DataFrame with -1\n",
    "df = df.fillna(-1)\n",
    "\n",
    "# Verify that there are no more NaN values\n",
    "print(df.isnull().sum())\n"
   ]
  },
  {
   "cell_type": "markdown",
   "metadata": {},
   "source": [
    "### Check 'Time Period' columns"
   ]
  },
  {
   "cell_type": "code",
   "execution_count": 55,
   "metadata": {},
   "outputs": [],
   "source": [
    "# Apply the cleaning function to the 'Time period' column\n",
    "df['Time period']=df['Time period'].apply(clean_extra_spaces)\n",
    "\n",
    "import re\n",
    "from datetime import datetime\n",
    "\n",
    "# Get the current year\n",
    "current_year = datetime.now().year\n",
    "\n",
    "def check_time(value):\n",
    "    \"\"\"\n",
    "    Check the year is not in the future or far past or the end year is smaller than start year\n",
    "    \"\"\"\n",
    "    if isinstance(value, str):\n",
    "        if re.match(r'^\\d{4}$', value): #Check the value is Single year and correct format\n",
    "            year = int(value)\n",
    "            if 2000 <= year <= current_year:\n",
    "                return value\n",
    "            else:\n",
    "                return -1\n",
    "        elif re.match(r'^\\d{4}-\\d{4}$', value): # Year range\n",
    "            start_year, end_year = map(int, value.split('-'))\n",
    "            if 2000 <= start_year < end_year <= current_year:\n",
    "                return value\n",
    "            else:\n",
    "                return -1\n",
    "        else:\n",
    "            return -1\n",
    "    else:\n",
    "        return value\n",
    "\n",
    "# Apply the validation function to the 'Time period' column\n",
    "df['Time period'] = df['Time period'].apply(check_time)\n",
    "      "
   ]
  },
  {
   "cell_type": "code",
   "execution_count": 56,
   "metadata": {},
   "outputs": [
    {
     "name": "stdout",
     "output_type": "stream",
     "text": [
      "   Start year End year\n",
      "0        2018     2019\n",
      "1        2015     2016\n",
      "2        2011     2012\n",
      "3        2015     2016\n",
      "4        2019     2019\n",
      "..        ...      ...\n",
      "85        NaT      NaT\n",
      "86       2017     2017\n",
      "87       2012     2012\n",
      "88       2018     2019\n",
      "89       2018     2019\n",
      "\n",
      "[90 rows x 2 columns]\n"
     ]
    }
   ],
   "source": [
    "# Custom function to convert the Time value to a Period object for further processing\n",
    "def to_period(value):\n",
    "    if isinstance(value, str) and value != '-1':\n",
    "        if '-' in value:\n",
    "            start_year, end_year = value.split('-')\n",
    "            return pd.Period(start_year, freq='Y'), pd.Period(end_year, freq='Y')  # Annual frequency for year range\n",
    "        else:\n",
    "            return pd.Period(value, freq='Y'), pd.Period(value, freq='Y')  # Annual frequency for a single year, Single year's end year remains the same\n",
    "    else:\n",
    "        return pd.NaT, pd.NaT  # Return NaT (Not a Time) for invalid entries\n",
    "\n",
    "# Apply the conversion function and create two columns\n",
    "df[['Start year', 'End year']] = df['Time period'].apply(lambda x: pd.Series(to_period(x)))\n",
    "\n",
    "df = df.drop(columns=['Time period'])\n",
    "\n",
    "print(df[['Start year', 'End year']])"
   ]
  },
  {
   "cell_type": "markdown",
   "metadata": {},
   "source": [
    "### Check Duplicate rows"
   ]
  },
  {
   "cell_type": "code",
   "execution_count": 57,
   "metadata": {},
   "outputs": [
    {
     "name": "stdout",
     "output_type": "stream",
     "text": [
      "30 True\n",
      "75 True\n",
      "76 True\n"
     ]
    }
   ],
   "source": [
    "# check duplicate rows\n",
    "duplicates = df.duplicated()\n",
    "for index, i in enumerate(duplicates):\n",
    "    if i is True:\n",
    "        print(index, i)"
   ]
  },
  {
   "cell_type": "code",
   "execution_count": 58,
   "metadata": {},
   "outputs": [],
   "source": [
    "# clean the duplicate rows and keep the first one\n",
    "df= df.drop_duplicates()"
   ]
  },
  {
   "cell_type": "code",
   "execution_count": 59,
   "metadata": {
    "id": "RU9Pm6LKfToO"
   },
   "outputs": [],
   "source": [
    "# save cleaned data into csv\n",
    "\n",
    "df.to_csv('s4068959-cleaned-A1data.csv',index=False, na_rep='NaT') # turn Nat into 'NaT' to display in csv file, otherwise the fields will be blank\n"
   ]
  },
  {
   "cell_type": "markdown",
   "metadata": {
    "id": "r-i5aIqXpPbu"
   },
   "source": [
    "# Task 2: Data Exploration"
   ]
  },
  {
   "cell_type": "markdown",
   "metadata": {
    "id": "QOY4K_neos9j"
   },
   "source": [
    "## Task 2.1 "
   ]
  },
  {
   "cell_type": "code",
   "execution_count": 60,
   "metadata": {
    "id": "ziwtOfWJn-Eh"
   },
   "outputs": [
    {
     "data": {
      "image/png": "[encoded data removed]",
      "text/plain": [
       "<Figure size 640x480 with 1 Axes>"
      ]
     },
     "metadata": {},
     "output_type": "display_data"
    },
    {
     "data": {
      "text/html": [
       "<div>\n",
       "<style scoped>\n",
       "    .dataframe tbody tr th:only-of-type {\n",
       "        vertical-align: middle;\n",
       "    }\n",
       "\n",
       "    .dataframe tbody tr th {\n",
       "        vertical-align: top;\n",
       "    }\n",
       "\n",
       "    .dataframe thead th {\n",
       "        text-align: right;\n",
       "    }\n",
       "</style>\n",
       "<table border=\"1\" class=\"dataframe\">\n",
       "  <thead>\n",
       "    <tr style=\"text-align: right;\">\n",
       "      <th></th>\n",
       "      <th>Region</th>\n",
       "      <th>Median_Total_Percentage</th>\n",
       "    </tr>\n",
       "  </thead>\n",
       "  <tbody>\n",
       "    <tr>\n",
       "      <th>0</th>\n",
       "      <td>EAP</td>\n",
       "      <td>0.50</td>\n",
       "    </tr>\n",
       "    <tr>\n",
       "      <th>1</th>\n",
       "      <td>ECA</td>\n",
       "      <td>0.81</td>\n",
       "    </tr>\n",
       "    <tr>\n",
       "      <th>2</th>\n",
       "      <td>LAC</td>\n",
       "      <td>0.43</td>\n",
       "    </tr>\n",
       "    <tr>\n",
       "      <th>3</th>\n",
       "      <td>MENA</td>\n",
       "      <td>0.33</td>\n",
       "    </tr>\n",
       "    <tr>\n",
       "      <th>4</th>\n",
       "      <td>SA</td>\n",
       "      <td>0.39</td>\n",
       "    </tr>\n",
       "    <tr>\n",
       "      <th>5</th>\n",
       "      <td>SSA</td>\n",
       "      <td>0.07</td>\n",
       "    </tr>\n",
       "  </tbody>\n",
       "</table>\n",
       "</div>"
      ],
      "text/plain": [
       "  Region  Median_Total_Percentage\n",
       "0    EAP                     0.50\n",
       "1    ECA                     0.81\n",
       "2    LAC                     0.43\n",
       "3   MENA                     0.33\n",
       "4     SA                     0.39\n",
       "5    SSA                     0.07"
      ]
     },
     "execution_count": 60,
     "metadata": {},
     "output_type": "execute_result"
    }
   ],
   "source": [
    "# Code goes after this line by adding cells\n",
    "import matplotlib.pyplot as plt\n",
    "\n",
    "# Create a boxplot grouped by Region\n",
    "df.boxplot(column='Total',by='Region',grid=False) # create boxplot for the 'Total' column, grouping the data by 'Region'.\n",
    "plt.title('Boxplot of Total Percentage of Children with Internet Connection at Home by Region')\n",
    "plt.suptitle('') # Removes the default unecessary supertitle\n",
    "plt.xlabel('Region')\n",
    "plt.ylabel('Total Percentage')\n",
    "plt.xticks(rotation=45) # Rotates the x-axis labels to enhance readability\n",
    "plt.show()\n",
    "\n",
    "# Compute the median of the total percentage grouped by Region\n",
    "median_by_region = df.groupby('Region')['Total'].median().reset_index() #group by region, then select total columns, then calculate the median, then list re-give them index number\n",
    "median_by_region.columns = ['Region','Median_Total_Percentage']\n",
    "median_by_region"
   ]
  },
  {
   "cell_type": "markdown",
   "metadata": {
    "id": "0-HLFaWTo7Gr"
   },
   "source": [
    "## Task 2.2 "
   ]
  },
  {
   "cell_type": "code",
   "execution_count": 61,
   "metadata": {
    "id": "k3-8Pbi1n-Ei"
   },
   "outputs": [
    {
     "name": "stdout",
     "output_type": "stream",
     "text": [
      "Mean for Wealth quintile (Poorest): 0.09045977011494254\n",
      "Mean for Wealth quintile (Richest): 0.48827586206896556\n"
     ]
    }
   ],
   "source": [
    "# Code goes after this line by adding cells\n",
    "# Compute the mean percentage for Wealth quintile (Poorest) and Wealth quintile (Richest)\n",
    "\n",
    "mean_poorest = df['Wealth quintile (Poorest)'].mean()\n",
    "mean_richest = df['Wealth quintile (Richest)'].mean()\n",
    "\n",
    "print(f\"Mean for Wealth quintile (Poorest): {mean_poorest}\")\n",
    "print(f\"Mean for Wealth quintile (Richest): {mean_richest}\")"
   ]
  },
  {
   "cell_type": "code",
   "execution_count": 62,
   "metadata": {},
   "outputs": [
    {
     "name": "stdout",
     "output_type": "stream",
     "text": [
      "   Countries and areas  Wealth quintile (Poorest)\n",
      "65             Somalia                       1.00\n",
      "59  Russian Federation                       0.88\n",
      "9               Brazil                       0.84\n",
      "77               Tonga                       0.83\n",
      "15               Chile                       0.75\n",
      "68           Sri Lanka                       0.71\n",
      "73     North Macedonia                       0.68\n",
      "63              Serbia                       0.65\n",
      "36               Japan                       0.64\n",
      "40          Kyrgyzstan                       0.56\n",
      "   Countries and areas  Wealth quintile (Richest)\n",
      "10            Bulgaria                       1.00\n",
      "59  Russian Federation                       1.00\n",
      "63              Serbia                       1.00\n",
      "65             Somalia                       1.00\n",
      "5             Barbados                       1.00\n",
      "73     North Macedonia                       1.00\n",
      "18          Costa Rica                       0.99\n",
      "68           Sri Lanka                       0.99\n",
      "17            Colombia                       0.99\n",
      "15               Chile                       0.99\n"
     ]
    }
   ],
   "source": [
    "# Sort the data by Wealth quintile (Poorest) in descending order and get the top 10\n",
    "top_10_poorest = df.sort_values(by='Wealth quintile (Poorest)', ascending=False).head(10)\n",
    "\n",
    "# list the top 10 and their corresponding country names\n",
    "print(top_10_poorest[['Countries and areas', 'Wealth quintile (Poorest)']])\n",
    "\n",
    "# repeat same thing for 'richest'\n",
    "top_10_richest = df.sort_values(by='Wealth quintile (Richest)', ascending=False).head(10)\n",
    "print(top_10_richest[['Countries and areas', 'Wealth quintile (Richest)']])"
   ]
  },
  {
   "cell_type": "markdown",
   "metadata": {
    "id": "jnasiwOAo_RP"
   },
   "source": [
    "## Task 2.3 "
   ]
  },
  {
   "cell_type": "code",
   "execution_count": 63,
   "metadata": {},
   "outputs": [
    {
     "name": "stdout",
     "output_type": "stream",
     "text": [
      "              Measure     Rural     Urban\n",
      "0                Mean  0.081333  0.300000\n",
      "1              Median  0.045000  0.255000\n",
      "2  Standard Deviation  0.253197  0.223128\n"
     ]
    }
   ],
   "source": [
    "lm_data = df[df['Income Group'] == 'Lower middle income (LM)']\n",
    "\n",
    "rural_mean = lm_data['Residence (Rural)'].mean()\n",
    "rural_median = lm_data['Residence (Rural)'].median()\n",
    "rural_std_dev = lm_data['Residence (Rural)'].std()\n",
    "\n",
    "urban_mean = lm_data['Residence (Urban)'].mean()\n",
    "urban_median = lm_data['Residence (Urban)'].median()\n",
    "urban_std_dev = lm_data['Residence (Urban)'].std()\n",
    "\n",
    "comparison = pd.DataFrame({'Measure':['Mean', 'Median', 'Standard Deviation'],\n",
    "                           'Rural':[rural_mean,rural_median,rural_std_dev],\n",
    "                           'Urban':[urban_mean,urban_median,urban_std_dev]})    \n",
    "\n",
    "print(comparison)"
   ]
  },
  {
   "cell_type": "markdown",
   "metadata": {},
   "source": [
    "### Create a visual aid"
   ]
  },
  {
   "cell_type": "code",
   "execution_count": 64,
   "metadata": {},
   "outputs": [
    {
     "data": {
      "image/png": "[encoded data removed]",
      "text/plain": [
       "<Figure size 640x480 with 1 Axes>"
      ]
     },
     "metadata": {},
     "output_type": "display_data"
    }
   ],
   "source": [
    "import numpy as np\n",
    "labels = comparison['Measure']\n",
    "rural_values = comparison['Rural']\n",
    "urban_values = comparison['Urban']\n",
    "\n",
    "#create bar chart\n",
    "x = np.arange(len(labels)) # label location\n",
    "width = 0.25 # width of the bar\n",
    "\n",
    "# plot the bars\n",
    "plt.bar(x - width/2, rural_values, width, color = 'green', label='Rural') # x-width/2 -> Adjusts the position of the rural bars to the left\n",
    "plt.bar(x + width/2, urban_values, width, color = 'orange',label='Urban')\n",
    "\n",
    "# add the exact percentage values above the bars\n",
    "for i in range(len(rural_values)):\n",
    "    plt.text(x[i] - width/2, rural_values[i], f'{rural_values[i]:.2f}%', ha='center', va='bottom', fontsize=10)\n",
    "    plt.text(x[i] + width/2, urban_values[i], f'{urban_values[i]:.2f}%', ha='center', va='bottom', fontsize=10)\n",
    "\n",
    "\n",
    "plt.xlabel('Statistical Measure')\n",
    "plt.ylabel('Percentage')\n",
    "plt.title('comparison of Rural vs Urban Percentages in LM Group')\n",
    "plt.xticks(x, labels)\n",
    "plt.legend()\n",
    "\n",
    "plt.show()"
   ]
  }
 ],
 "metadata": {
  "colab": {
   "collapsed_sections": [],
   "name": "assignment1_TEMPLATE.ipynb",
   "provenance": [],
   "toc_visible": true
  },
  "kernelspec": {
   "display_name": "Python 3",
   "language": "python",
   "name": "python3"
  },
  "language_info": {
   "codemirror_mode": {
    "name": "ipython",
    "version": 3
   },
   "file_extension": ".py",
   "mimetype": "text/x-python",
   "name": "python",
   "nbconvert_exporter": "python",
   "pygments_lexer": "ipython3",
   "version": "3.12.2"
  }
 },
 "nbformat": 4,
 "nbformat_minor": 1
}
